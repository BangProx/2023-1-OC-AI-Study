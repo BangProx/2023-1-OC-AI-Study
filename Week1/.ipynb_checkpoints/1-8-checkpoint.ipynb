{
 "cells": [
  {
   "cell_type": "code",
   "execution_count": 33,
   "id": "4a5969fb",
   "metadata": {},
   "outputs": [],
   "source": [
    "import pandas as pd"
   ]
  },
  {
   "cell_type": "code",
   "execution_count": 34,
   "id": "dc27d351",
   "metadata": {},
   "outputs": [],
   "source": [
    "name = ['피카츄','라이츄','파이리',\"꼬부기\",\"버터풀\",\"야도란\",\"피죤투\",\"또가스\"]\n",
    "department = ['경제','경영','컴공','컴공','경제','전전','컴공','기계']\n",
    "lang = ['파이썬','C','C++','파이썬','자바','엄','파이썬','자바']\n",
    "work = ['AI엔지니어','프론트','백엔드','AI엔지니어','백엔드','프론트','AI엔지니어','PM']\n",
    "\n",
    "df_py = pd.DataFrame({'이름': name,'학과': department,'언어' : lang, '직무' : work})"
   ]
  },
  {
   "cell_type": "code",
   "execution_count": 35,
   "id": "89212bf4",
   "metadata": {},
   "outputs": [
    {
     "data": {
      "text/html": [
       "<div>\n",
       "<style scoped>\n",
       "    .dataframe tbody tr th:only-of-type {\n",
       "        vertical-align: middle;\n",
       "    }\n",
       "\n",
       "    .dataframe tbody tr th {\n",
       "        vertical-align: top;\n",
       "    }\n",
       "\n",
       "    .dataframe thead th {\n",
       "        text-align: right;\n",
       "    }\n",
       "</style>\n",
       "<table border=\"1\" class=\"dataframe\">\n",
       "  <thead>\n",
       "    <tr style=\"text-align: right;\">\n",
       "      <th></th>\n",
       "      <th>이름</th>\n",
       "      <th>학과</th>\n",
       "      <th>언어</th>\n",
       "      <th>직무</th>\n",
       "    </tr>\n",
       "  </thead>\n",
       "  <tbody>\n",
       "    <tr>\n",
       "      <th>0</th>\n",
       "      <td>피카츄</td>\n",
       "      <td>경제</td>\n",
       "      <td>파이썬</td>\n",
       "      <td>AI엔지니어</td>\n",
       "    </tr>\n",
       "    <tr>\n",
       "      <th>3</th>\n",
       "      <td>꼬부기</td>\n",
       "      <td>컴공</td>\n",
       "      <td>파이썬</td>\n",
       "      <td>AI엔지니어</td>\n",
       "    </tr>\n",
       "    <tr>\n",
       "      <th>6</th>\n",
       "      <td>피죤투</td>\n",
       "      <td>컴공</td>\n",
       "      <td>파이썬</td>\n",
       "      <td>AI엔지니어</td>\n",
       "    </tr>\n",
       "  </tbody>\n",
       "</table>\n",
       "</div>"
      ],
      "text/plain": [
       "    이름  학과   언어      직무\n",
       "0  피카츄  경제  파이썬  AI엔지니어\n",
       "3  꼬부기  컴공  파이썬  AI엔지니어\n",
       "6  피죤투  컴공  파이썬  AI엔지니어"
      ]
     },
     "execution_count": 35,
     "metadata": {},
     "output_type": "execute_result"
    }
   ],
   "source": [
    "df_py.iloc[[0,3,6],:]"
   ]
  },
  {
   "cell_type": "code",
   "execution_count": 36,
   "id": "5b580a07",
   "metadata": {},
   "outputs": [],
   "source": [
    "py_user = df_py[df_py[\"언어\"] == \"파이썬\"]"
   ]
  },
  {
   "cell_type": "code",
   "execution_count": 37,
   "id": "0bc25093",
   "metadata": {},
   "outputs": [
    {
     "data": {
      "text/html": [
       "<div>\n",
       "<style scoped>\n",
       "    .dataframe tbody tr th:only-of-type {\n",
       "        vertical-align: middle;\n",
       "    }\n",
       "\n",
       "    .dataframe tbody tr th {\n",
       "        vertical-align: top;\n",
       "    }\n",
       "\n",
       "    .dataframe thead th {\n",
       "        text-align: right;\n",
       "    }\n",
       "</style>\n",
       "<table border=\"1\" class=\"dataframe\">\n",
       "  <thead>\n",
       "    <tr style=\"text-align: right;\">\n",
       "      <th></th>\n",
       "      <th>이름</th>\n",
       "      <th>학과</th>\n",
       "      <th>언어</th>\n",
       "      <th>직무</th>\n",
       "    </tr>\n",
       "  </thead>\n",
       "  <tbody>\n",
       "    <tr>\n",
       "      <th>0</th>\n",
       "      <td>피카츄</td>\n",
       "      <td>경제</td>\n",
       "      <td>파이썬</td>\n",
       "      <td>AI엔지니어</td>\n",
       "    </tr>\n",
       "    <tr>\n",
       "      <th>3</th>\n",
       "      <td>꼬부기</td>\n",
       "      <td>컴공</td>\n",
       "      <td>파이썬</td>\n",
       "      <td>AI엔지니어</td>\n",
       "    </tr>\n",
       "    <tr>\n",
       "      <th>6</th>\n",
       "      <td>피죤투</td>\n",
       "      <td>컴공</td>\n",
       "      <td>파이썬</td>\n",
       "      <td>AI엔지니어</td>\n",
       "    </tr>\n",
       "  </tbody>\n",
       "</table>\n",
       "</div>"
      ],
      "text/plain": [
       "    이름  학과   언어      직무\n",
       "0  피카츄  경제  파이썬  AI엔지니어\n",
       "3  꼬부기  컴공  파이썬  AI엔지니어\n",
       "6  피죤투  컴공  파이썬  AI엔지니어"
      ]
     },
     "execution_count": 37,
     "metadata": {},
     "output_type": "execute_result"
    }
   ],
   "source": [
    "py_user"
   ]
  },
  {
   "cell_type": "code",
   "execution_count": 38,
   "id": "4a88f6bf",
   "metadata": {},
   "outputs": [
    {
     "data": {
      "text/html": [
       "<div>\n",
       "<style scoped>\n",
       "    .dataframe tbody tr th:only-of-type {\n",
       "        vertical-align: middle;\n",
       "    }\n",
       "\n",
       "    .dataframe tbody tr th {\n",
       "        vertical-align: top;\n",
       "    }\n",
       "\n",
       "    .dataframe thead th {\n",
       "        text-align: right;\n",
       "    }\n",
       "</style>\n",
       "<table border=\"1\" class=\"dataframe\">\n",
       "  <thead>\n",
       "    <tr style=\"text-align: right;\">\n",
       "      <th></th>\n",
       "      <th>이름</th>\n",
       "      <th>학과</th>\n",
       "      <th>언어</th>\n",
       "      <th>직무</th>\n",
       "    </tr>\n",
       "  </thead>\n",
       "  <tbody>\n",
       "    <tr>\n",
       "      <th>0</th>\n",
       "      <td>피카츄</td>\n",
       "      <td>경제</td>\n",
       "      <td>파이썬</td>\n",
       "      <td>AI엔지니어</td>\n",
       "    </tr>\n",
       "    <tr>\n",
       "      <th>3</th>\n",
       "      <td>꼬부기</td>\n",
       "      <td>컴공</td>\n",
       "      <td>파이썬</td>\n",
       "      <td>AI엔지니어</td>\n",
       "    </tr>\n",
       "    <tr>\n",
       "      <th>6</th>\n",
       "      <td>피죤투</td>\n",
       "      <td>컴공</td>\n",
       "      <td>파이썬</td>\n",
       "      <td>AI엔지니어</td>\n",
       "    </tr>\n",
       "  </tbody>\n",
       "</table>\n",
       "</div>"
      ],
      "text/plain": [
       "    이름  학과   언어      직무\n",
       "0  피카츄  경제  파이썬  AI엔지니어\n",
       "3  꼬부기  컴공  파이썬  AI엔지니어\n",
       "6  피죤투  컴공  파이썬  AI엔지니어"
      ]
     },
     "execution_count": 38,
     "metadata": {},
     "output_type": "execute_result"
    }
   ],
   "source": [
    "py_user2 = df_py[df_py[\"언어\"].isin([\"파이썬\"])]\n",
    "py_user2"
   ]
  },
  {
   "cell_type": "code",
   "execution_count": 39,
   "id": "ca71a0de",
   "metadata": {},
   "outputs": [
    {
     "data": {
      "text/html": [
       "<div>\n",
       "<style scoped>\n",
       "    .dataframe tbody tr th:only-of-type {\n",
       "        vertical-align: middle;\n",
       "    }\n",
       "\n",
       "    .dataframe tbody tr th {\n",
       "        vertical-align: top;\n",
       "    }\n",
       "\n",
       "    .dataframe thead th {\n",
       "        text-align: right;\n",
       "    }\n",
       "</style>\n",
       "<table border=\"1\" class=\"dataframe\">\n",
       "  <thead>\n",
       "    <tr style=\"text-align: right;\">\n",
       "      <th></th>\n",
       "      <th>이름</th>\n",
       "      <th>학과</th>\n",
       "      <th>언어</th>\n",
       "      <th>직무</th>\n",
       "    </tr>\n",
       "  </thead>\n",
       "  <tbody>\n",
       "    <tr>\n",
       "      <th>3</th>\n",
       "      <td>꼬부기</td>\n",
       "      <td>컴공</td>\n",
       "      <td>파이썬</td>\n",
       "      <td>AI엔지니어</td>\n",
       "    </tr>\n",
       "    <tr>\n",
       "      <th>6</th>\n",
       "      <td>피죤투</td>\n",
       "      <td>컴공</td>\n",
       "      <td>파이썬</td>\n",
       "      <td>AI엔지니어</td>\n",
       "    </tr>\n",
       "  </tbody>\n",
       "</table>\n",
       "</div>"
      ],
      "text/plain": [
       "    이름  학과   언어      직무\n",
       "3  꼬부기  컴공  파이썬  AI엔지니어\n",
       "6  피죤투  컴공  파이썬  AI엔지니어"
      ]
     },
     "execution_count": 39,
     "metadata": {},
     "output_type": "execute_result"
    }
   ],
   "source": [
    "py_sp1 = df_py[(df_py['학과'] == '컴공') & (df_py['언어'] == '파이썬') & (df_py['직무'] =='AI엔지니어')]\n",
    "py_sp1"
   ]
  },
  {
   "cell_type": "code",
   "execution_count": null,
   "id": "0e260739",
   "metadata": {},
   "outputs": [],
   "source": []
  },
  {
   "cell_type": "code",
   "execution_count": null,
   "id": "93166a34",
   "metadata": {},
   "outputs": [],
   "source": []
  }
 ],
 "metadata": {
  "kernelspec": {
   "display_name": "Python 3 (ipykernel)",
   "language": "python",
   "name": "python3"
  },
  "language_info": {
   "codemirror_mode": {
    "name": "ipython",
    "version": 3
   },
   "file_extension": ".py",
   "mimetype": "text/x-python",
   "name": "python",
   "nbconvert_exporter": "python",
   "pygments_lexer": "ipython3",
   "version": "3.10.9"
  }
 },
 "nbformat": 4,
 "nbformat_minor": 5
}
