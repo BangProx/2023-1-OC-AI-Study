{
 "cells": [
  {
   "cell_type": "code",
   "execution_count": 1,
   "id": "25c7e761",
   "metadata": {},
   "outputs": [],
   "source": [
    "import pandas as pd\n",
    "from sklearn.datasets import load_breast_cancer\n",
    "from imblearn.over_sampling import RandomOverSampler\n",
    "from imblearn.under_sampling import RandomUnderSampler"
   ]
  },
  {
   "cell_type": "code",
   "execution_count": 9,
   "id": "85722373",
   "metadata": {},
   "outputs": [
    {
     "name": "stdout",
     "output_type": "stream",
     "text": [
      "Class distribusion before sampling\n",
      "1    357\n",
      "0    212\n",
      "Name: target, dtype: int64\n",
      "\n",
      "Over Sampling\n",
      "0    357\n",
      "1    357\n",
      "Name: target, dtype: int64\n",
      "\n",
      "Under Sampling\n",
      "0    212\n",
      "1    212\n",
      "Name: target, dtype: int64\n"
     ]
    }
   ],
   "source": [
    "wine_X, wine_y = load_breast_cancer(return_X_y = True, as_frame = True)\n",
    "dataset = pd.concat([wine_X,wine_y],axis = 1)\n",
    "print(\"Class distribusion before sampling\")\n",
    "print(dataset['target'].value_counts())\n",
    "\n",
    "print()\n",
    "print(\"Over Sampling\")\n",
    "X_over, y_over = RandomOverSampler(random_state=42).fit_resample(wine_X, wine_y)\n",
    "over_dataset = pd.concat([X_over,y_over],axis = 1)\n",
    "print(over_dataset['target'].value_counts())\n",
    "\n",
    "print()\n",
    "print(\"Under Sampling\")\n",
    "X_under, y_under = RandomUnderSampler(random_state = 42).fit_resample(wine_X,wine_y)\n",
    "under_dataset = pd.concat([X_under,y_under],axis = 1)\n",
    "print(under_dataset['target'].value_counts())"
   ]
  },
  {
   "cell_type": "code",
   "execution_count": null,
   "id": "ccbb23d0",
   "metadata": {},
   "outputs": [],
   "source": []
  }
 ],
 "metadata": {
  "kernelspec": {
   "display_name": "Python 3 (ipykernel)",
   "language": "python",
   "name": "python3"
  },
  "language_info": {
   "codemirror_mode": {
    "name": "ipython",
    "version": 3
   },
   "file_extension": ".py",
   "mimetype": "text/x-python",
   "name": "python",
   "nbconvert_exporter": "python",
   "pygments_lexer": "ipython3",
   "version": "3.10.9"
  }
 },
 "nbformat": 4,
 "nbformat_minor": 5
}
