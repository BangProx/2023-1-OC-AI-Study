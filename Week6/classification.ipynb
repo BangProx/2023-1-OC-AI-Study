{
 "cells": [
  {
   "cell_type": "code",
   "execution_count": 1,
   "id": "5716b9d3",
   "metadata": {},
   "outputs": [],
   "source": [
    "import pandas as pd\n",
    "from sklearn.datasets import load_breast_cancer\n",
    "from sklearn.model_selection import train_test_split\n",
    "from sklearn.preprocessing import StandardScaler\n",
    "from sklearn.ensemble import RandomForestClassifier\n",
    "from sklearn.metrics import classification_report"
   ]
  },
  {
   "cell_type": "code",
   "execution_count": 3,
   "id": "4b3926ab",
   "metadata": {},
   "outputs": [
    {
     "name": "stdout",
     "output_type": "stream",
     "text": [
      "불균형 이전 target 분포:\n",
      " 1    357\n",
      "0    212\n",
      "Name: target, dtype: int64\n",
      "불균형 이전 target 분포:\n",
      " 1    357\n",
      "0     20\n",
      "Name: target, dtype: int64\n"
     ]
    }
   ],
   "source": [
    "wine_X, wine_y = load_breast_cancer(return_X_y=True,as_frame=True)\n",
    "\n",
    "dataset = pd.concat([wine_X,wine_y],axis = 1)#위아래 합치기\n",
    "target1 = dataset[dataset['target'] == 1]\n",
    "resampled = dataset[dataset['target']==0].sample(20)#sample()은 무작위로 표본을 추출하는 메서드. \n",
    "imbalanced_dataset = pd.concat([target1,resampled],axis = 0)#옆으로 합치기\n",
    "print(f\"불균형 이전 target 분포:\\n {dataset['target'].value_counts()}\")\n",
    "print(f\"불균형 이전 target 분포:\\n {imbalanced_dataset['target'].value_counts()}\")"
   ]
  },
  {
   "cell_type": "code",
   "execution_count": 7,
   "id": "47915cea",
   "metadata": {},
   "outputs": [
    {
     "name": "stdout",
     "output_type": "stream",
     "text": [
      "Wine 분류 결과...\n",
      "              precision    recall  f1-score   support\n",
      "\n",
      "           0       0.60      0.60      0.60         5\n",
      "           1       0.97      0.97      0.97        71\n",
      "\n",
      "    accuracy                           0.95        76\n",
      "   macro avg       0.79      0.79      0.79        76\n",
      "weighted avg       0.95      0.95      0.95        76\n",
      "\n"
     ]
    }
   ],
   "source": [
    "X_train, X_val, y_train, y_val = train_test_split(imbalanced_dataset.drop(['target'],axis = 1),\n",
    "                                imbalanced_dataset['target'],test_size = 0.2, random_state = 42)\n",
    "\n",
    "scaler = StandardScaler()\n",
    "scaled_X_train = scaler.fit_transform(X_train)\n",
    "scaled_X_val = scaler.transform(X_val)\n",
    "\n",
    "classifier = RandomForestClassifier()\n",
    "classifier.fit(X_train,y_train)\n",
    "preds = classifier.predict(X_val)\n",
    "\n",
    "print(\"Wine 분류 결과...\")\n",
    "print(classification_report(preds,y_val))"
   ]
  }
 ],
 "metadata": {
  "kernelspec": {
   "display_name": "Python 3 (ipykernel)",
   "language": "python",
   "name": "python3"
  },
  "language_info": {
   "codemirror_mode": {
    "name": "ipython",
    "version": 3
   },
   "file_extension": ".py",
   "mimetype": "text/x-python",
   "name": "python",
   "nbconvert_exporter": "python",
   "pygments_lexer": "ipython3",
   "version": "3.10.9"
  }
 },
 "nbformat": 4,
 "nbformat_minor": 5
}
