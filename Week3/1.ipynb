{
 "cells": [
  {
   "cell_type": "code",
   "execution_count": null,
   "id": "3b233bed",
   "metadata": {},
   "outputs": [],
   "source": [
    "import pandas as pd\n",
    "from glob import glob\n",
    "import warnings\n",
    "warnings.filterwarnings('ignore')# 경고 메세지를 출력 안 하는 코드입니다.\n",
    "base_dir = \"\" # 알집 풀어주신 곳 폴더를 넣으시면 됩니다.\n",
    "file_lst = glob(base_dir + \"*.csv\")\n",
    "df = pd.DataFrame()\n",
    "for i in file_lst:\n",
    "    data = pd.read_csv(i)\n",
    "    df = pd.concat([df,data])\n",
    "\n",
    "df = df.reset_index(drop = True)\n",
    "df_cafe = df[df['상권업종중분류명'] == '커피점/카페']\n",
    "df_mp = df_cafe[df_cafe['시군구명'] == '마포구']\n",
    "df_sb = df_mp[df_mp['상호명'].str.startswith('스타벅스') == True]"
   ]
  },
  {
   "cell_type": "code",
   "execution_count": null,
   "id": "e3195b79",
   "metadata": {},
   "outputs": [],
   "source": [
    "ori_df = df\n",
    "mapo_cafes = ori_df[(ori_df['시군구명'] == \"마포구\") & (ori_df['상권업종중분류명'] == \"커피점/카페\")].reset_index(drop=True)\n",
    "\n",
    "tot_cafes = len(mapo_cafes)\n",
    "\n",
    "cafe_lst = ['스타벅스', \"투썸플레이스\", \"이디야\", \"할리스\", \"메가커피\", \"커피빈\"]\n",
    "nums = []\n",
    "ratio = []\n",
    "sums = 0\n",
    "\n",
    "for cafe in cafe_lst:\n",
    "    df_tmp = mapo_cafes[mapo_cafes['상호명'].str.startswith(cafe) == True]\n",
    "    nums.append(len(df_tmp))\n",
    "\n",
    "for i in range(0,6):\n",
    "    ratio.append(nums[i]/len(df_mp))\n",
    "\n",
    "mapo_cafe_info = pd.DataFrame({\n",
    "    '프랜차이즈' : cafe_lst,\n",
    "    '점포수' : nums,\n",
    "    '입점 비율' : ratio\n",
    "})\n",
    "pd.options.display.float_format = '{:.2%}'.format\n",
    "mapo_cafe_info"
   ]
  },
  {
   "cell_type": "code",
   "execution_count": null,
   "id": "d58e45d5",
   "metadata": {},
   "outputs": [],
   "source": [
    "import matplotlib.pyplot as plt\n",
    "import seaborn as sns\n",
    "from matplotlib import rc\n",
    "rc('font', family='AppleGothic')\n",
    "plt.rcParams['axes.unicode_minus'] = False\n",
    "\n",
    "fig, ax = plt.subplots()\n",
    "ax.bar(cafe_lst, ratio)\n",
    "ax.patches[0].set_color('red')\n",
    "ax.set_xlabel('프랜차이즈',labelpad = 12, fontsize = 14)\n",
    "ax.set_ylabel('입점 비율',labelpad = 12, fontsize = 14)"
   ]
  },
  {
   "cell_type": "code",
   "execution_count": null,
   "id": "0746a3e7",
   "metadata": {},
   "outputs": [],
   "source": [
    "from collections import Counter\n",
    "\n",
    "df_dr = df[df['상권업종중분류명'] == '유흥주점']\n",
    "df_gn = df_dr[df_dr['시군구명'] == '강남구']\n",
    "\n",
    "gn_dr = df_gn['상호명']\n",
    "gn_dr\n",
    "dr_list = []\n",
    "num = []\n",
    "for drink in gn_dr:\n",
    "    if drink in dr_list:\n",
    "        continue\n",
    "    else:\n",
    "        dr_list.append(drink)"
   ]
  }
 ],
 "metadata": {
  "kernelspec": {
   "display_name": "Python 3 (ipykernel)",
   "language": "python",
   "name": "python3"
  },
  "language_info": {
   "codemirror_mode": {
    "name": "ipython",
    "version": 3
   },
   "file_extension": ".py",
   "mimetype": "text/x-python",
   "name": "python",
   "nbconvert_exporter": "python",
   "pygments_lexer": "ipython3",
   "version": "3.10.9"
  }
 },
 "nbformat": 4,
 "nbformat_minor": 5
}
